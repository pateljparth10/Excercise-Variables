{
 "cells": [
  {
   "cell_type": "markdown",
   "metadata": {
    "azdata_cell_guid": "894c32a1-1222-45fa-92c3-ac15753238ec"
   },
   "source": [
    "# Python Basics - Variables - Exercise\n",
    "In the Variables lesson, we covered the different types of variables available in Python. In this exercise, we want to see your understanding of variables. We have provided some questions and guidance. Enter the code in the code cell below the question.\n",
    "## Exercise"
   ]
  },
  {
   "cell_type": "markdown",
   "metadata": {
    "azdata_cell_guid": "67c3693b-d3ce-423a-b463-ec23f3675d45"
   },
   "source": [
    "1. Create a variable named `onomatopoeia` and set its value to 'pop'.  Print the type for `onomatopoeia`."
   ]
  },
  {
   "cell_type": "code",
   "execution_count": 1,
   "metadata": {
    "azdata_cell_guid": "d175491a-eb0c-473a-8b90-1edeef1b4c24"
   },
   "outputs": [
    {
     "data": {
      "text/plain": [
       "str"
      ]
     },
     "execution_count": 1,
     "metadata": {},
     "output_type": "execute_result"
    }
   ],
   "source": [
    "onomatopoeia = 'pop'\n",
    "type(onomatopoeia)"
   ]
  },
  {
   "cell_type": "markdown",
   "metadata": {
    "azdata_cell_guid": "141170c0-959b-42ae-88c8-8b36baf83213"
   },
   "source": [
    "2. Create a variable named `lyrics` and set its value to:\n",
    "\n",
    "```\n",
    "Katie Casey was baseball mad,\n",
    "Had the fever and had it bad.\n",
    "Just to root for the home town crew,\n",
    "Ev'ry sou\n",
    "Katie blew.\n",
    "On a Saturday her young beau\n",
    "Called to see if she'd like to go\n",
    "To see a show, but Miss Kate said \"No,\n",
    "I'll tell you what you can do:\"\n",
    "\n",
    "```\n",
    "Source: https://en.wikipedia.org/wiki/Take_Me_Out_to_the_Ball_Game - lyrics originally from 1908 Tin Pan Alley"
   ]
  },
  {
   "cell_type": "code",
   "execution_count": 3,
   "metadata": {
    "azdata_cell_guid": "cecc752f-a069-4c8b-9edc-83086ef5aa62"
   },
   "outputs": [
    {
     "name": "stdout",
     "output_type": "stream",
     "text": [
      "Katie Casey was baseball mad,\n",
      "Had the fever and had it bad.\n",
      "Just to root for the home town crew,\n",
      "Ev'ry sou\n",
      "Katie blew.\n",
      "On a Saturday her young beau\n",
      "Called to see if she'd like to go\n",
      "To see a show, but Miss Kate said \"No,\n",
      "I'll tell you what you can do:\"\n"
     ]
    }
   ],
   "source": [
    "lyrics = \"Katie Casey was baseball mad,\\nHad the fever and had it bad.\\nJust to root for the home town crew,\\nEv'ry sou\\nKatie blew.\\nOn a Saturday her young beau\\nCalled to see if she'd like to go\\nTo see a show, but Miss Kate said \\\"No,\\nI'll tell you what you can do:\\\"\""
   ]
  },
  {
   "cell_type": "markdown",
   "metadata": {
    "azdata_cell_guid": "5f14d81a-a7b1-4d6d-be5b-a812df9e94aa"
   },
   "source": [
    "3. Create a variable named `gpa` for a grade point average and set it to 3.75.  Print out the variable.  Then print out the variable's type."
   ]
  },
  {
   "cell_type": "code",
   "execution_count": 3,
   "metadata": {
    "azdata_cell_guid": "53338238-c18a-4094-a858-9196259892c1"
   },
   "outputs": [
    {
     "name": "stdout",
     "output_type": "stream",
     "text": [
      "3.75\n"
     ]
    },
    {
     "data": {
      "text/plain": [
       "float"
      ]
     },
     "execution_count": 3,
     "metadata": {},
     "output_type": "execute_result"
    }
   ],
   "source": [
    "gpa = 3.75\n",
    "print(gpa)\n",
    "type(gpa)"
   ]
  },
  {
   "cell_type": "markdown",
   "metadata": {
    "azdata_cell_guid": "c13249c9-25ca-402a-b363-1131ea968537"
   },
   "source": [
    "4. Create a variable called `empty_var` and set it to the Python equivalent for null.  Print out the variable.  Then print out the variable's type."
   ]
  },
  {
   "cell_type": "code",
   "execution_count": 5,
   "metadata": {
    "azdata_cell_guid": "9fdcebab-e125-4e3a-b54c-ced36e8e71ee"
   },
   "outputs": [
    {
     "name": "stdout",
     "output_type": "stream",
     "text": [
      "None\n"
     ]
    },
    {
     "data": {
      "text/plain": [
       "NoneType"
      ]
     },
     "execution_count": 5,
     "metadata": {},
     "output_type": "execute_result"
    }
   ],
   "source": [
    "empty_var = None\n",
    "print(empty_var)\n",
    "type(empty_var)"
   ]
  },
  {
   "cell_type": "markdown",
   "metadata": {
    "azdata_cell_guid": "7628a504-eac5-4533-a9d1-f1f4be7afe1d"
   },
   "source": [
    "5. Create a variable to store 8<sup>2</sup>. Print the variable."
   ]
  },
  {
   "cell_type": "code",
   "execution_count": 6,
   "metadata": {
    "azdata_cell_guid": "7a8f97b9-cd9c-4d03-bbc5-42590af4d0af"
   },
   "outputs": [
    {
     "name": "stdout",
     "output_type": "stream",
     "text": [
      "64\n"
     ]
    }
   ],
   "source": [
    "expo = 8**2\n",
    "print(expo)"
   ]
  },
  {
   "cell_type": "markdown",
   "metadata": {
    "azdata_cell_guid": "96699102-fb13-4653-b5ab-ab4426724369"
   },
   "source": [
    "6\\. Create a variable to store the following expression: (52 - 52) + (64 / 8) + the remainder of 42/8. Print the final result."
   ]
  },
  {
   "cell_type": "code",
   "execution_count": 7,
   "metadata": {
    "azdata_cell_guid": "0565147e-81de-4067-8084-156955d6df74"
   },
   "outputs": [
    {
     "name": "stdout",
     "output_type": "stream",
     "text": [
      "10.0\n"
     ]
    }
   ],
   "source": [
    "expression = (52-52) + (64/8) + 42%8\n",
    "print(expression)"
   ]
  },
  {
   "cell_type": "markdown",
   "metadata": {
    "azdata_cell_guid": "4c646223-07f3-48af-8c85-4127a71b23c0"
   },
   "source": [
    "7\\. Create a variable named `true` and set it to the boolean value for true.  Create a second variable named `isTrue` and set it to check if `true is not False`.  Print `isTrue`"
   ]
  },
  {
   "cell_type": "code",
   "execution_count": 9,
   "metadata": {
    "azdata_cell_guid": "146c3f8a-3359-4ef8-b67a-0ff8a5ace492"
   },
   "outputs": [
    {
     "name": "stdout",
     "output_type": "stream",
     "text": [
      "True\n"
     ]
    }
   ],
   "source": [
    "true= True\n",
    "isTrue = true != False\n",
    "print(isTrue)"
   ]
  },
  {
   "cell_type": "markdown",
   "metadata": {
    "azdata_cell_guid": "8b7d8660-4901-4d47-a2ac-6cf7f2855a68"
   },
   "source": [
    "8. Create a variable named `weird_word` and set its value to 'Weird'.  Create a second variable to check whether `weird_word` matches 'weird'.  Print out the second variable.\n",
    "\n",
    "Hint: Use the `==` operator to compare the two strings for equality."
   ]
  },
  {
   "cell_type": "code",
   "execution_count": 12,
   "metadata": {
    "azdata_cell_guid": "1263620c-0c9c-4b0c-9f80-076e082854dd",
    "tags": []
   },
   "outputs": [
    {
     "name": "stdout",
     "output_type": "stream",
     "text": [
      "False\n"
     ]
    }
   ],
   "source": [
    "weird_word = 'Weird'\n",
    "check_word = weird_word == 'weird'\n",
    "print(check_word)"
   ]
  },
  {
   "cell_type": "markdown",
   "metadata": {
    "azdata_cell_guid": "066cc84e-8d01-4578-9ab5-e3e040a34c7b"
   },
   "source": [
    "9. Create a variable and set it to `false`.  What error occurs?"
   ]
  },
  {
   "cell_type": "code",
   "execution_count": 17,
   "metadata": {
    "azdata_cell_guid": "cc07e37c-992d-4a96-b9e3-5af7ff7e0be3"
   },
   "outputs": [
    {
     "name": "stdout",
     "output_type": "stream",
     "text": [
      "False\n"
     ]
    }
   ],
   "source": [
    "word = False\n",
    "print(word)"
   ]
  }
 ],
 "metadata": {
  "kernelspec": {
   "display_name": "Python 3 (ipykernel)",
   "language": "python",
   "name": "python3"
  },
  "language_info": {
   "codemirror_mode": {
    "name": "ipython",
    "version": 3
   },
   "file_extension": ".py",
   "mimetype": "text/x-python",
   "name": "python",
   "nbconvert_exporter": "python",
   "pygments_lexer": "ipython3",
   "version": "3.9.7"
  }
 },
 "nbformat": 4,
 "nbformat_minor": 2
}
